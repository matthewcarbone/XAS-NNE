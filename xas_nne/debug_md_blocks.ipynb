{
 "cells": [
  {
   "cell_type": "code",
   "execution_count": 46,
   "id": "a13ba444-780c-44a9-899b-f4024097acf6",
   "metadata": {},
   "outputs": [
    {
     "name": "stdout",
     "output_type": "stream",
     "text": [
      "The autoreload extension is already loaded. To reload it, use:\n",
      "  %reload_ext autoreload\n"
     ]
    }
   ],
   "source": [
    "%load_ext autoreload\n",
    "%autoreload 2\n",
    "%config Completer.use_jedi = False"
   ]
  },
  {
   "cell_type": "code",
   "execution_count": 70,
   "id": "e40c031b-a5ef-48a0-aaa7-ef6b9fbe8813",
   "metadata": {},
   "outputs": [],
   "source": [
    "from pathlib import Path\n",
    "import numpy as np"
   ]
  },
  {
   "cell_type": "code",
   "execution_count": 48,
   "id": "8ba306fa-4c64-4abb-adb8-1fb128607e1c",
   "metadata": {},
   "outputs": [],
   "source": [
    "# local import the module\n",
    "from md_block import process_extended_xyz_file_to_array"
   ]
  },
  {
   "cell_type": "code",
   "execution_count": 49,
   "id": "1ebf0da3-978a-4da8-a12e-f78c4bf8cbce",
   "metadata": {},
   "outputs": [],
   "source": [
    "# Simple hack so this notebook works for both of us\n",
    "path = Path(\"/Users/mc/Github/XAS-NNE/data/molecule_md/benzene_old_dft.xyz\")\n",
    "if not path.exists():\n",
    "    path = 'D:\\\\BNL\\\\MD_Datasets\\\\benzene.xyz'"
   ]
  },
  {
   "cell_type": "markdown",
   "id": "5c235c4b-1e10-4ea5-bfb2-1b8b8088ac4b",
   "metadata": {},
   "source": [
    "Debug..."
   ]
  },
  {
   "cell_type": "code",
   "execution_count": 50,
   "id": "f5da08f4-c7f1-4e88-9929-1f7a4163ecba",
   "metadata": {},
   "outputs": [
    {
     "name": "stdout",
     "output_type": "stream",
     "text": [
      "Read 8791762 lines from /Users/mc/Github/XAS-NNE/data/molecule_md/benzene_old_dft.xyz, each block has 12 atoms\n"
     ]
    }
   ],
   "source": [
    "blocks = process_extended_xyz_file_to_array(path)"
   ]
  },
  {
   "cell_type": "code",
   "execution_count": 51,
   "id": "eace820d-3481-4540-ae15-4d829a568b73",
   "metadata": {},
   "outputs": [
    {
     "data": {
      "text/plain": [
       "627983"
      ]
     },
     "execution_count": 51,
     "metadata": {},
     "output_type": "execute_result"
    }
   ],
   "source": [
    "len(blocks)  # 627,983"
   ]
  },
  {
   "cell_type": "code",
   "execution_count": 52,
   "id": "d7315cf1-7bcd-4147-83b2-15462611215b",
   "metadata": {},
   "outputs": [
    {
     "data": {
      "text/plain": [
       "['12\\n',\n",
       " '-146536.1068\\n',\n",
       " 'C\\t0.0\\t1.397\\t0.0\\t4.7384784e-11\\t-3.8259648\\t-6.717196799999999e-13\\n',\n",
       " 'C\\t1.2098\\t0.6985\\t0.0\\t-3.249288\\t-1.9418976000000001\\t-3.4314912e-13\\n',\n",
       " 'C\\t1.2098\\t-0.6985\\t0.0\\t-3.249288\\t1.9418976000000001\\t6.6741696e-13\\n',\n",
       " 'C\\t0.0\\t-1.397\\t0.0\\t2.8316879999999998e-11\\t3.8259648\\t-1.7098128e-12\\n',\n",
       " 'C\\t-1.2098\\t-0.6985\\t0.0\\t3.249288\\t1.9418976000000001\\t9.378431999999998e-13\\n',\n",
       " 'C\\t-1.2098\\t0.6985\\t0.0\\t3.249288\\t-1.9418976000000001\\t-1.7085167999999998e-12\\n',\n",
       " 'H\\t0.0\\t2.481\\t0.0\\t-1.12612032e-11\\t6.0447456\\t6.7398336e-13\\n',\n",
       " 'H\\t2.1486\\t1.2405\\t0.0\\t5.2187472\\t3.012624\\t4.1946912e-14\\n',\n",
       " 'H\\t2.1486\\t-1.2405\\t0.0\\t5.2187472\\t-3.012624\\t4.7321136e-13\\n',\n",
       " 'H\\t0.0\\t-2.481\\t0.0\\t-4.1629392e-12\\t-6.0447456\\t5.071233600000001e-13\\n',\n",
       " 'H\\t-2.1486\\t-1.2405\\t0.0\\t-5.2187472\\t-3.012624\\t7.202952e-14\\n',\n",
       " 'H\\t-2.1486\\t1.2405\\t0.0\\t-5.2187472\\t3.012624\\t1.05965424e-12\\n']"
      ]
     },
     "execution_count": 52,
     "metadata": {},
     "output_type": "execute_result"
    }
   ],
   "source": [
    "blocks[0]"
   ]
  },
  {
   "cell_type": "code",
   "execution_count": 53,
   "id": "15f42624-4572-43fd-a88e-c17488956a7a",
   "metadata": {},
   "outputs": [],
   "source": [
    "new_blocks = [sub_block[2:] for sub_block in blocks]"
   ]
  },
  {
   "cell_type": "code",
   "execution_count": 64,
   "id": "0182cace-1ca7-44cd-83fd-6cc375ecea8c",
   "metadata": {},
   "outputs": [],
   "source": [
    "my_block = new_blocks[0]"
   ]
  },
  {
   "cell_type": "code",
   "execution_count": 66,
   "id": "1a8f6847-48a7-47c2-a8ca-84fa39341bb5",
   "metadata": {},
   "outputs": [
    {
     "data": {
      "text/plain": [
       "['C\\t0.0\\t1.397\\t0.0\\t4.7384784e-11\\t-3.8259648\\t-6.717196799999999e-13\\n',\n",
       " 'C\\t1.2098\\t0.6985\\t0.0\\t-3.249288\\t-1.9418976000000001\\t-3.4314912e-13\\n',\n",
       " 'C\\t1.2098\\t-0.6985\\t0.0\\t-3.249288\\t1.9418976000000001\\t6.6741696e-13\\n',\n",
       " 'C\\t0.0\\t-1.397\\t0.0\\t2.8316879999999998e-11\\t3.8259648\\t-1.7098128e-12\\n',\n",
       " 'C\\t-1.2098\\t-0.6985\\t0.0\\t3.249288\\t1.9418976000000001\\t9.378431999999998e-13\\n',\n",
       " 'C\\t-1.2098\\t0.6985\\t0.0\\t3.249288\\t-1.9418976000000001\\t-1.7085167999999998e-12\\n',\n",
       " 'H\\t0.0\\t2.481\\t0.0\\t-1.12612032e-11\\t6.0447456\\t6.7398336e-13\\n',\n",
       " 'H\\t2.1486\\t1.2405\\t0.0\\t5.2187472\\t3.012624\\t4.1946912e-14\\n',\n",
       " 'H\\t2.1486\\t-1.2405\\t0.0\\t5.2187472\\t-3.012624\\t4.7321136e-13\\n',\n",
       " 'H\\t0.0\\t-2.481\\t0.0\\t-4.1629392e-12\\t-6.0447456\\t5.071233600000001e-13\\n',\n",
       " 'H\\t-2.1486\\t-1.2405\\t0.0\\t-5.2187472\\t-3.012624\\t7.202952e-14\\n',\n",
       " 'H\\t-2.1486\\t1.2405\\t0.0\\t-5.2187472\\t3.012624\\t1.05965424e-12\\n']"
      ]
     },
     "execution_count": 66,
     "metadata": {},
     "output_type": "execute_result"
    }
   ],
   "source": [
    "my_block"
   ]
  },
  {
   "cell_type": "code",
   "execution_count": 67,
   "id": "c560234e-7e2f-43c4-9f5b-f7fbbd5b74bc",
   "metadata": {},
   "outputs": [],
   "source": [
    "my_block2 = [my_string.split()[1:4] for my_string in my_block]"
   ]
  },
  {
   "cell_type": "code",
   "execution_count": 76,
   "id": "652ef194-5d5c-49c6-a63b-b337de71e917",
   "metadata": {},
   "outputs": [],
   "source": [
    "my_block2[0][0] = 1e-10"
   ]
  },
  {
   "cell_type": "code",
   "execution_count": 78,
   "id": "c0a80af1-93d7-4d48-8347-d90ab79fa293",
   "metadata": {},
   "outputs": [
    {
     "data": {
      "text/plain": [
       "[[1e-10, '1.397', '0.0'],\n",
       " ['1.2098', '0.6985', '0.0'],\n",
       " ['1.2098', '-0.6985', '0.0'],\n",
       " ['0.0', '-1.397', '0.0'],\n",
       " ['-1.2098', '-0.6985', '0.0'],\n",
       " ['-1.2098', '0.6985', '0.0'],\n",
       " ['0.0', '2.481', '0.0'],\n",
       " ['2.1486', '1.2405', '0.0'],\n",
       " ['2.1486', '-1.2405', '0.0'],\n",
       " ['0.0', '-2.481', '0.0'],\n",
       " ['-2.1486', '-1.2405', '0.0'],\n",
       " ['-2.1486', '1.2405', '0.0']]"
      ]
     },
     "execution_count": 78,
     "metadata": {},
     "output_type": "execute_result"
    }
   ],
   "source": [
    "my_block2"
   ]
  },
  {
   "cell_type": "code",
   "execution_count": 82,
   "id": "5e2ed137-58de-4640-aa04-34e30375c17b",
   "metadata": {},
   "outputs": [],
   "source": [
    "my_array_test = np.array(my_block2, dtype=float)\n",
    "my_array_test2 = np.array(my_block2, dtype=float) * 2"
   ]
  },
  {
   "cell_type": "code",
   "execution_count": 88,
   "id": "f774a292-b0d4-49e1-aa4f-14a4fd9e7880",
   "metadata": {},
   "outputs": [],
   "source": [
    "my_md_array = np.array([my_array_test, my_array_test2])"
   ]
  },
  {
   "cell_type": "code",
   "execution_count": 90,
   "id": "bbcb480d-5853-4986-bba7-97cf75013871",
   "metadata": {},
   "outputs": [
    {
     "data": {
      "text/plain": [
       "(2, 12, 3)"
      ]
     },
     "execution_count": 90,
     "metadata": {},
     "output_type": "execute_result"
    }
   ],
   "source": [
    "my_md_array.shape"
   ]
  },
  {
   "cell_type": "code",
   "execution_count": 94,
   "id": "1e85fa14-bd7f-497c-8e49-20c7ab222360",
   "metadata": {},
   "outputs": [
    {
     "data": {
      "text/plain": [
       "array([ 0.   , -2.794,  0.   ])"
      ]
     },
     "execution_count": 94,
     "metadata": {},
     "output_type": "execute_result"
    }
   ],
   "source": [
    "my_md_array[1, 3]"
   ]
  },
  {
   "cell_type": "code",
   "execution_count": null,
   "id": "78d8377e-c1e6-478c-9881-408ab20d9304",
   "metadata": {},
   "outputs": [],
   "source": [
    "new_blocks2 = []"
   ]
  },
  {
   "cell_type": "code",
   "execution_count": null,
   "id": "00122413-8008-486a-a29b-6760240b60d5",
   "metadata": {},
   "outputs": [],
   "source": [
    "# Project\n",
    "# T x N_atoms x 3 array (T ~ 600k)\n",
    "# What:\n",
    "# T x N_abosbers x ACSF_vector_length array"
   ]
  }
 ],
 "metadata": {
  "kernelspec": {
   "display_name": "Python 3 (ipykernel)",
   "language": "python",
   "name": "python3"
  },
  "language_info": {
   "codemirror_mode": {
    "name": "ipython",
    "version": 3
   },
   "file_extension": ".py",
   "mimetype": "text/x-python",
   "name": "python",
   "nbconvert_exporter": "python",
   "pygments_lexer": "ipython3",
   "version": "3.9.10"
  }
 },
 "nbformat": 4,
 "nbformat_minor": 5
}
